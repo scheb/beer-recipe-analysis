{
 "cells": [
  {
   "cell_type": "code",
   "execution_count": 1,
   "metadata": {},
   "outputs": [],
   "source": [
    "import json\n",
    "import pandas\n",
    "\n",
    "json_data = json.load(open(\"data/mmum.json\"))\n",
    "malts = pandas.json_normalize(json_data, \"malts\", [\"style\"], record_prefix=\"malt_\")"
   ]
  },
  {
   "cell_type": "code",
   "execution_count": 2,
   "metadata": {},
   "outputs": [
    {
     "data": {
      "text/html": [
       "<div>\n",
       "<style scoped>\n",
       "    .dataframe tbody tr th:only-of-type {\n",
       "        vertical-align: middle;\n",
       "    }\n",
       "\n",
       "    .dataframe tbody tr th {\n",
       "        vertical-align: top;\n",
       "    }\n",
       "\n",
       "    .dataframe thead th {\n",
       "        text-align: right;\n",
       "    }\n",
       "</style>\n",
       "<table border=\"1\" class=\"dataframe\">\n",
       "  <thead>\n",
       "    <tr style=\"text-align: right;\">\n",
       "      <th></th>\n",
       "      <th>min</th>\n",
       "      <th>max</th>\n",
       "      <th>mean</th>\n",
       "      <th>count</th>\n",
       "    </tr>\n",
       "    <tr>\n",
       "      <th>malt_kind</th>\n",
       "      <th></th>\n",
       "      <th></th>\n",
       "      <th></th>\n",
       "      <th></th>\n",
       "    </tr>\n",
       "  </thead>\n",
       "  <tbody>\n",
       "    <tr>\n",
       "      <th>pilsner</th>\n",
       "      <td>4.901961</td>\n",
       "      <td>96.629213</td>\n",
       "      <td>57.449750</td>\n",
       "      <td>71</td>\n",
       "    </tr>\n",
       "    <tr>\n",
       "      <th>pale ale</th>\n",
       "      <td>14.410828</td>\n",
       "      <td>100.000000</td>\n",
       "      <td>66.059918</td>\n",
       "      <td>65</td>\n",
       "    </tr>\n",
       "    <tr>\n",
       "      <th>carahell</th>\n",
       "      <td>1.818182</td>\n",
       "      <td>20.000000</td>\n",
       "      <td>7.256714</td>\n",
       "      <td>36</td>\n",
       "    </tr>\n",
       "    <tr>\n",
       "      <th>wiener</th>\n",
       "      <td>7.142857</td>\n",
       "      <td>100.000000</td>\n",
       "      <td>39.960408</td>\n",
       "      <td>35</td>\n",
       "    </tr>\n",
       "    <tr>\n",
       "      <th>münchner</th>\n",
       "      <td>0.924855</td>\n",
       "      <td>88.000000</td>\n",
       "      <td>19.081258</td>\n",
       "      <td>33</td>\n",
       "    </tr>\n",
       "    <tr>\n",
       "      <th>carapils</th>\n",
       "      <td>1.607717</td>\n",
       "      <td>25.925926</td>\n",
       "      <td>7.245270</td>\n",
       "      <td>21</td>\n",
       "    </tr>\n",
       "    <tr>\n",
       "      <th>weizen hell</th>\n",
       "      <td>6.382979</td>\n",
       "      <td>50.092764</td>\n",
       "      <td>18.201397</td>\n",
       "      <td>15</td>\n",
       "    </tr>\n",
       "    <tr>\n",
       "      <th>sauer</th>\n",
       "      <td>0.892857</td>\n",
       "      <td>9.090909</td>\n",
       "      <td>2.955332</td>\n",
       "      <td>15</td>\n",
       "    </tr>\n",
       "    <tr>\n",
       "      <th>weizen</th>\n",
       "      <td>4.166667</td>\n",
       "      <td>15.000000</td>\n",
       "      <td>8.421388</td>\n",
       "      <td>14</td>\n",
       "    </tr>\n",
       "    <tr>\n",
       "      <th>melanoidin</th>\n",
       "      <td>0.892857</td>\n",
       "      <td>18.181818</td>\n",
       "      <td>7.004827</td>\n",
       "      <td>14</td>\n",
       "    </tr>\n",
       "  </tbody>\n",
       "</table>\n",
       "</div>"
      ],
      "text/plain": [
       "                   min         max       mean  count\n",
       "malt_kind                                           \n",
       "pilsner       4.901961   96.629213  57.449750     71\n",
       "pale ale     14.410828  100.000000  66.059918     65\n",
       "carahell      1.818182   20.000000   7.256714     36\n",
       "wiener        7.142857  100.000000  39.960408     35\n",
       "münchner      0.924855   88.000000  19.081258     33\n",
       "carapils      1.607717   25.925926   7.245270     21\n",
       "weizen hell   6.382979   50.092764  18.201397     15\n",
       "sauer         0.892857    9.090909   2.955332     15\n",
       "weizen        4.166667   15.000000   8.421388     14\n",
       "melanoidin    0.892857   18.181818   7.004827     14"
      ]
     },
     "execution_count": 2,
     "metadata": {},
     "output_type": "execute_result"
    }
   ],
   "source": [
    "# Pick a style\n",
    "style_malts = malts[malts[\"style\"] == \"Pale Ale\"]\n",
    "# style_malts[\"malt_kind\"].value_counts()[:10]\n",
    "\n",
    "malt_ratio = style_malts.groupby(\"malt_kind\")['malt_amount_percent'].agg(['min', 'max', 'mean', 'count'])\n",
    "malt_ratio = malt_ratio[malt_ratio['count'] > 3] # Filter low amount of data points\n",
    "malt_ratio.sort_values(by='count', ascending=0).head(10)"
   ]
  },
  {
   "cell_type": "code",
   "execution_count": 3,
   "metadata": {},
   "outputs": [],
   "source": [
    "top_malts = style_malts[\"malt_kind\"].value_counts()[:10].index.values\n",
    "style_top_malts = style_malts[style_malts['malt_kind'].isin(top_malts)] # Get only the values of the mostly used malts\n",
    "# style_top_malts.loc[:, [\"malt_kind\", \"malt_amount_percent\"]]"
   ]
  },
  {
   "cell_type": "code",
   "execution_count": 4,
   "metadata": {},
   "outputs": [
    {
     "data": {
      "text/plain": [
       "<AxesSubplot:title={'center':'malt_amount_percent'}, xlabel='malt_kind'>"
      ]
     },
     "execution_count": 4,
     "metadata": {},
     "output_type": "execute_result"
    },
    {
     "data": {
      "image/png": "[encoded data removed]",
      "text/plain": [
       "<Figure size 720x432 with 1 Axes>"
      ]
     },
     "metadata": {
      "needs_background": "light"
     },
     "output_type": "display_data"
    }
   ],
   "source": [
    "style_top_malts.boxplot(by=\"malt_kind\", column=[\"malt_amount_percent\"], rot=90, fontsize=14, figsize=[10, 6])"
   ]
  }
 ],
 "metadata": {
  "kernelspec": {
   "display_name": "Python 3",
   "language": "python",
   "name": "python3"
  },
  "language_info": {
   "codemirror_mode": {
    "name": "ipython",
    "version": 3
   },
   "file_extension": ".py",
   "mimetype": "text/x-python",
   "name": "python",
   "nbconvert_exporter": "python",
   "pygments_lexer": "ipython3",
   "version": "3.6.9"
  }
 },
 "nbformat": 4,
 "nbformat_minor": 4
}
