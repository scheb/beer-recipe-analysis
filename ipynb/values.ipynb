{
 "cells": [
  {
   "cell_type": "code",
   "execution_count": 1,
   "metadata": {},
   "outputs": [],
   "source": [
    "import json\n",
    "import pandas\n",
    "\n",
    "json_data = json.load(open(\"data/mmum.json\"))\n",
    "data = pandas.json_normalize(json_data)"
   ]
  },
  {
   "cell_type": "code",
   "execution_count": 2,
   "metadata": {},
   "outputs": [
    {
     "data": {
      "text/plain": [
       "Pale Ale                      147\n",
       "India Pale Ale                 84\n",
       "Helles Hefeweizen              78\n",
       "Stout                          55\n",
       "...außer Kategorie             44\n",
       "Helles                         33\n",
       "Märzen/Oktoberfest             30\n",
       "Belgisches Witbier/Blanche     25\n",
       "Weizenbock                     24\n",
       "Kellerbier                     24\n",
       "Name: style, dtype: int64"
      ]
     },
     "execution_count": 2,
     "metadata": {},
     "output_type": "execute_result"
    }
   ],
   "source": [
    "data[\"style\"].value_counts()[:10]"
   ]
  },
  {
   "cell_type": "code",
   "execution_count": 3,
   "metadata": {},
   "outputs": [
    {
     "data": {
      "text/plain": [
       "pilsner           582\n",
       "wiener            297\n",
       "münchner          264\n",
       "pale ale          255\n",
       "carahell          193\n",
       "weizen hell       170\n",
       "haferflocken      150\n",
       "sauer             127\n",
       "carapils          117\n",
       "weizen            108\n",
       "carared            82\n",
       "melanoidin         79\n",
       "caraaroma          73\n",
       "röstgerste         51\n",
       "caraamber          49\n",
       "münchner ii        48\n",
       "caradunkel         46\n",
       "gerstenflocken     45\n",
       "caramünch ii       41\n",
       "rauch              29\n",
       "Name: malt_kind, dtype: int64"
      ]
     },
     "execution_count": 3,
     "metadata": {},
     "output_type": "execute_result"
    }
   ],
   "source": [
    "malts = pandas.json_normalize(json_data, \"malts\", [], record_prefix=\"malt_\")\n",
    "malts[\"malt_kind\"].value_counts()[:20]"
   ]
  },
  {
   "cell_type": "code",
   "execution_count": 5,
   "metadata": {},
   "outputs": [
    {
     "data": {
      "text/plain": [
       "cascade                     192\n",
       "magnum                      135\n",
       "amarillo                    135\n",
       "citra                       126\n",
       "perle                       126\n",
       "spalter select               82\n",
       "hallertauer tradition        81\n",
       "saazer                       80\n",
       "simcoe                       78\n",
       "tettnanger                   74\n",
       "centennial                   65\n",
       "east kent golding            65\n",
       "saphir                       60\n",
       "fuggles                      52\n",
       "chinook                      52\n",
       "east kent goldings           51\n",
       "northern brewer              48\n",
       "mandarina bavaria            45\n",
       "hallertauer mittelfrüh       40\n",
       "nelson sauvin                38\n",
       "mosaic                       35\n",
       "tradition                    29\n",
       "hallertauer perle            28\n",
       "galaxy                       27\n",
       "willamette                   23\n",
       "saaz                         22\n",
       "herkules                     22\n",
       "mittelfrüh                   21\n",
       "styrian goldings             20\n",
       "comet                        20\n",
       "huell melon                  19\n",
       "celeia                       17\n",
       "el dorado                    17\n",
       "columbus                     16\n",
       "callista                     16\n",
       "lemondrop                    15\n",
       "ariana                       15\n",
       "hallertauer magnum           15\n",
       "hallertau mittelfrüh         14\n",
       "hallertauer cascade          13\n",
       "brewers gold                 12\n",
       "crystal                      12\n",
       "motueka                      12\n",
       "summit                       12\n",
       "polaris                      12\n",
       "kazbek                       11\n",
       "hüll melon                   11\n",
       "opal                         11\n",
       "hersbrucker spät             11\n",
       "hallertauer mittelfrüher     11\n",
       "Name: hop_kind, dtype: int64"
      ]
     },
     "execution_count": 5,
     "metadata": {},
     "output_type": "execute_result"
    }
   ],
   "source": [
    "hops = pandas.json_normalize(json_data, \"hops\", [], record_prefix=\"hop_\")\n",
    "hops[\"hop_kind\"].value_counts()[:50]\n",
    "# hops[\"hop_kind\"].values.tolist()\n",
    "# hops.groupby(\"hop_kind\")[\"hop_kind\"].agg(['count'])"
   ]
  }
 ],
 "metadata": {
  "kernelspec": {
   "display_name": "Python 3",
   "language": "python",
   "name": "python3"
  },
  "language_info": {
   "codemirror_mode": {
    "name": "ipython",
    "version": 3
   },
   "file_extension": ".py",
   "mimetype": "text/x-python",
   "name": "python",
   "nbconvert_exporter": "python",
   "pygments_lexer": "ipython3",
   "version": "3.6.9"
  }
 },
 "nbformat": 4,
 "nbformat_minor": 4
}
