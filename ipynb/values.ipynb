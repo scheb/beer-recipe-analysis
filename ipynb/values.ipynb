{
 "cells": [
  {
   "cell_type": "code",
   "execution_count": 1,
   "metadata": {},
   "outputs": [
    {
     "data": {
      "text/plain": [
       "name                1450\n",
       "style               1429\n",
       "efficiency          1450\n",
       "original_extract    1450\n",
       "alc                 1449\n",
       "mash_water          1450\n",
       "sparge_water        1450\n",
       "boiling_time        1450\n",
       "malts               1450\n",
       "hops                1450\n",
       "uid                 1450\n",
       "dtype: int64"
      ]
     },
     "execution_count": 1,
     "metadata": {},
     "output_type": "execute_result"
    }
   ],
   "source": [
    "import json\n",
    "import pandas\n",
    "\n",
    "json_data = json.load(open(\"../data/processed/mb.json\"))\n",
    "# json_data = json.load(open(\"../data/processed/mmum.json\"))\n",
    "# json_data = json.load(open(\"../data/recipes.json\"))\n",
    "\n",
    "data = pandas.json_normalize(json_data)\n",
    "data.count()"
   ]
  },
  {
   "cell_type": "code",
   "execution_count": 2,
   "metadata": {},
   "outputs": [
    {
     "data": {
      "text/plain": [
       "Amerikanisches IPA         149\n",
       "Amerikanisches Pale Ale    129\n",
       "Helles Weizenbier           92\n",
       "Deutsches Pilsner           56\n",
       "Münchner Helles             56\n",
       "Oktoberfest / Märzen        44\n",
       "Irish Red Ale               37\n",
       "Saison                      36\n",
       "Kölsch                      35\n",
       "Blonde Ale                  33\n",
       "Name: style, dtype: int64"
      ]
     },
     "execution_count": 2,
     "metadata": {},
     "output_type": "execute_result"
    }
   ],
   "source": [
    "data[\"style\"].value_counts()[:10]"
   ]
  },
  {
   "cell_type": "code",
   "execution_count": 3,
   "metadata": {},
   "outputs": [
    {
     "data": {
      "text/plain": [
       "pilsner                   806\n",
       "pale ale                  426\n",
       "wiener                    380\n",
       "weizen hell               358\n",
       "münchner typ i            314\n",
       "karamell hell             302\n",
       "sauer                     272\n",
       "münchner typ ii           216\n",
       "haferflocken              187\n",
       "karamell dunkel typ ii    133\n",
       "karamell amber            115\n",
       "karamell pils             112\n",
       "chocolate malt            109\n",
       "karamell rot              106\n",
       "melanoidin                103\n",
       "röst spezial typ ii        98\n",
       "gerstenflocken             92\n",
       "karamell aroma             87\n",
       "weizen                     69\n",
       "röstgerste                 63\n",
       "Name: malt_kind, dtype: int64"
      ]
     },
     "execution_count": 3,
     "metadata": {},
     "output_type": "execute_result"
    }
   ],
   "source": [
    "malts = pandas.json_normalize(json_data, \"malts\", [], record_prefix=\"malt_\")\n",
    "malts[\"malt_kind\"].value_counts()[:20]"
   ]
  },
  {
   "cell_type": "code",
   "execution_count": 4,
   "metadata": {},
   "outputs": [
    {
     "data": {
      "text/plain": [
       "cascade us                     319\n",
       "perle                          306\n",
       "tettnanger                     257\n",
       "citra                          218\n",
       "saazer                         181\n",
       "hallertauer tradition          161\n",
       "mandarina bavaria              131\n",
       "amarillo                       114\n",
       "simcoe                         112\n",
       "east kent golding              110\n",
       "hallertauer magnum             109\n",
       "hallertauer mittelfrüher       104\n",
       "saphir                         100\n",
       "spalter select                  85\n",
       "columbus/tomahawk/zeus, ctz     79\n",
       "northern brewer                 73\n",
       "magnum us                       61\n",
       "golding                         55\n",
       "hüll melon                      49\n",
       "herkules                        44\n",
       "hallertau blanc                 44\n",
       "callista                        42\n",
       "sorachi ace                     42\n",
       "fuggles                         41\n",
       "mosaic                          40\n",
       "willamette                      36\n",
       "chinook us                      36\n",
       "spalter                         36\n",
       "fuggle                          34\n",
       "hallertauer bitter              34\n",
       "polaris                         31\n",
       "hallertauer comet               28\n",
       "lemondrop                       27\n",
       "hallertauer taurus              26\n",
       "galaxy                          22\n",
       "motueka                         21\n",
       "hersbrucker spät                20\n",
       "brewer's gold us                19\n",
       "el dorado                       19\n",
       "magnum slowenien                19\n",
       "iunga                           17\n",
       "nelson sauvin                   17\n",
       "hersbrucker pure                17\n",
       "belma                           16\n",
       "celeia                          16\n",
       "target                          16\n",
       "yellow sub                      15\n",
       "comet usa                       14\n",
       "nugget                          14\n",
       "2.5                             13\n",
       "Name: hop_kind, dtype: int64"
      ]
     },
     "execution_count": 4,
     "metadata": {},
     "output_type": "execute_result"
    }
   ],
   "source": [
    "hops = pandas.json_normalize(json_data, \"hops\", [], record_prefix=\"hop_\")\n",
    "hops[\"hop_kind\"].value_counts()[:50]\n",
    "# hops[\"hop_kind\"].values.tolist()\n",
    "# hops.groupby(\"hop_kind\")[\"hop_kind\"].agg(['count'])"
   ]
  }
 ],
 "metadata": {
  "kernelspec": {
   "display_name": "Python 3",
   "language": "python",
   "name": "python3"
  },
  "language_info": {
   "codemirror_mode": {
    "name": "ipython",
    "version": 3
   },
   "file_extension": ".py",
   "mimetype": "text/x-python",
   "name": "python",
   "nbconvert_exporter": "python",
   "pygments_lexer": "ipython3",
   "version": "3.6.9"
  }
 },
 "nbformat": 4,
 "nbformat_minor": 4
}
